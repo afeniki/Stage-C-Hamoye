{
 "cells": [
  {
   "cell_type": "code",
   "execution_count": 1,
   "id": "637f1131",
   "metadata": {},
   "outputs": [],
   "source": [
    "import pandas as pd"
   ]
  },
  {
   "cell_type": "code",
   "execution_count": 2,
   "id": "b67cc5d4",
   "metadata": {},
   "outputs": [
    {
     "name": "stderr",
     "output_type": "stream",
     "text": [
      "C:\\Users\\ayool\\anaconda3\\envs\\data\\lib\\site-packages\\IPython\\core\\interactiveshell.py:3444: DtypeWarning: Columns (6) have mixed types.Specify dtype option on import or set low_memory=False.\n",
      "  exec(code_obj, self.user_global_ns, self.user_ns)\n"
     ]
    }
   ],
   "source": [
    "df = pd.read_csv('https://query.data.world/s/wh6j7rxy2hvrn4ml75ci62apk5hgae') "
   ]
  },
  {
   "cell_type": "code",
   "execution_count": 3,
   "id": "d35b1023",
   "metadata": {},
   "outputs": [
    {
     "data": {
      "text/plain": [
       "0        3A\n",
       "1        3A\n",
       "2        3A\n",
       "3        3A\n",
       "4        3A\n",
       "         ..\n",
       "72181    3A\n",
       "72182    3A\n",
       "72183    3A\n",
       "72184    3A\n",
       "72185    3A\n",
       "Name: QScore, Length: 72186, dtype: object"
      ]
     },
     "execution_count": 3,
     "metadata": {},
     "output_type": "execute_result"
    }
   ],
   "source": [
    "df['QScore']"
   ]
  },
  {
   "cell_type": "code",
   "execution_count": 4,
   "id": "13d68cc0",
   "metadata": {},
   "outputs": [
    {
     "data": {
      "text/plain": [
       "3A    51481\n",
       "2A    10576\n",
       "2B    10096\n",
       "1A       16\n",
       "1B       16\n",
       "Name: QScore, dtype: int64"
      ]
     },
     "execution_count": 4,
     "metadata": {},
     "output_type": "execute_result"
    }
   ],
   "source": [
    "#check distribution of target variable \n",
    "df[ 'QScore' ].value_counts() "
   ]
  },
  {
   "cell_type": "code",
   "execution_count": 5,
   "id": "a44f915b",
   "metadata": {},
   "outputs": [
    {
     "data": {
      "text/plain": [
       "country               0\n",
       "year                  0\n",
       "country_code          0\n",
       "record                0\n",
       "crop_land         20472\n",
       "grazing_land      20472\n",
       "forest_land       20472\n",
       "fishing_ground    20473\n",
       "built_up_land     20473\n",
       "carbon            20473\n",
       "total                 9\n",
       "QScore                1\n",
       "dtype: int64"
      ]
     },
     "execution_count": 5,
     "metadata": {},
     "output_type": "execute_result"
    }
   ],
   "source": [
    "df.isna().sum() "
   ]
  },
  {
   "cell_type": "code",
   "execution_count": 6,
   "id": "20f956dc",
   "metadata": {},
   "outputs": [],
   "source": [
    "df = df.dropna()"
   ]
  },
  {
   "cell_type": "code",
   "execution_count": 7,
   "id": "0cc82aae",
   "metadata": {},
   "outputs": [
    {
     "data": {
      "text/plain": [
       "country           0\n",
       "year              0\n",
       "country_code      0\n",
       "record            0\n",
       "crop_land         0\n",
       "grazing_land      0\n",
       "forest_land       0\n",
       "fishing_ground    0\n",
       "built_up_land     0\n",
       "carbon            0\n",
       "total             0\n",
       "QScore            0\n",
       "dtype: int64"
      ]
     },
     "execution_count": 7,
     "metadata": {},
     "output_type": "execute_result"
    }
   ],
   "source": [
    "df.isna().sum() "
   ]
  },
  {
   "cell_type": "code",
   "execution_count": 8,
   "id": "56dcf629",
   "metadata": {},
   "outputs": [
    {
     "data": {
      "text/plain": [
       "3A    51473\n",
       "2A      240\n",
       "Name: QScore, dtype: int64"
      ]
     },
     "execution_count": 8,
     "metadata": {},
     "output_type": "execute_result"
    }
   ],
   "source": [
    "#An obvious change in our target variable after removing the missing values is that there are only three classes left #and from the distribution of the 3 classes, we can see that \n",
    "#there is an obvious imbalance between the classes. There are methods that can be applied to handle this imbalance such as oversampling and undersampling. \n",
    "#Oversampling involves increasing the number of instances in the class with fewer instances \n",
    "#while undersampling #involves reducing the data points in the class with more instances. \n",
    "#For now, we will convert this to a binary classification problem by combining class '2A' and '1A'. \n",
    "df[ 'QScore' ] = df[ 'QScore' ].replace([ '1A' ], '2A' ) \n",
    "df.QScore.value_counts() \n",
    " "
   ]
  },
  {
   "cell_type": "code",
   "execution_count": 9,
   "id": "9c7702e6",
   "metadata": {},
   "outputs": [],
   "source": [
    "df_2A = df[df.QScore== '2A' ] \n",
    "df_3A = df[df.QScore== '3A' ].sample( 350 ) \n",
    "data_df = df_2A.append(df_3A) "
   ]
  },
  {
   "cell_type": "code",
   "execution_count": 10,
   "id": "0aba9203",
   "metadata": {},
   "outputs": [
    {
     "data": {
      "text/html": [
       "<div>\n",
       "<style scoped>\n",
       "    .dataframe tbody tr th:only-of-type {\n",
       "        vertical-align: middle;\n",
       "    }\n",
       "\n",
       "    .dataframe tbody tr th {\n",
       "        vertical-align: top;\n",
       "    }\n",
       "\n",
       "    .dataframe thead th {\n",
       "        text-align: right;\n",
       "    }\n",
       "</style>\n",
       "<table border=\"1\" class=\"dataframe\">\n",
       "  <thead>\n",
       "    <tr style=\"text-align: right;\">\n",
       "      <th></th>\n",
       "      <th>country</th>\n",
       "      <th>year</th>\n",
       "      <th>country_code</th>\n",
       "      <th>record</th>\n",
       "      <th>crop_land</th>\n",
       "      <th>grazing_land</th>\n",
       "      <th>forest_land</th>\n",
       "      <th>fishing_ground</th>\n",
       "      <th>built_up_land</th>\n",
       "      <th>carbon</th>\n",
       "      <th>total</th>\n",
       "      <th>QScore</th>\n",
       "    </tr>\n",
       "  </thead>\n",
       "  <tbody>\n",
       "    <tr>\n",
       "      <th>1536</th>\n",
       "      <td>Algeria</td>\n",
       "      <td>2016</td>\n",
       "      <td>4</td>\n",
       "      <td>AreaPerCap</td>\n",
       "      <td>2.072989e-01</td>\n",
       "      <td>8.112722e-01</td>\n",
       "      <td>0.048357265</td>\n",
       "      <td>2.258528e-02</td>\n",
       "      <td>2.998367e-02</td>\n",
       "      <td>0.000000e+00</td>\n",
       "      <td>1.119497e+00</td>\n",
       "      <td>2A</td>\n",
       "    </tr>\n",
       "    <tr>\n",
       "      <th>1537</th>\n",
       "      <td>Algeria</td>\n",
       "      <td>2016</td>\n",
       "      <td>4</td>\n",
       "      <td>AreaTotHA</td>\n",
       "      <td>8.417600e+06</td>\n",
       "      <td>3.294260e+07</td>\n",
       "      <td>1963600</td>\n",
       "      <td>9.171000e+05</td>\n",
       "      <td>1.217520e+06</td>\n",
       "      <td>0.000000e+00</td>\n",
       "      <td>4.545842e+07</td>\n",
       "      <td>2A</td>\n",
       "    </tr>\n",
       "    <tr>\n",
       "      <th>1538</th>\n",
       "      <td>Algeria</td>\n",
       "      <td>2016</td>\n",
       "      <td>4</td>\n",
       "      <td>BiocapPerCap</td>\n",
       "      <td>2.021916e-01</td>\n",
       "      <td>2.636077e-01</td>\n",
       "      <td>0.027166736</td>\n",
       "      <td>7.947991e-03</td>\n",
       "      <td>2.924496e-02</td>\n",
       "      <td>0.000000e+00</td>\n",
       "      <td>5.301590e-01</td>\n",
       "      <td>2A</td>\n",
       "    </tr>\n",
       "    <tr>\n",
       "      <th>1539</th>\n",
       "      <td>Algeria</td>\n",
       "      <td>2016</td>\n",
       "      <td>4</td>\n",
       "      <td>BiocapTotGHA</td>\n",
       "      <td>8.210214e+06</td>\n",
       "      <td>1.070408e+07</td>\n",
       "      <td>1103135.245</td>\n",
       "      <td>3.227369e+05</td>\n",
       "      <td>1.187524e+06</td>\n",
       "      <td>0.000000e+00</td>\n",
       "      <td>2.152769e+07</td>\n",
       "      <td>2A</td>\n",
       "    </tr>\n",
       "    <tr>\n",
       "      <th>1540</th>\n",
       "      <td>Algeria</td>\n",
       "      <td>2016</td>\n",
       "      <td>4</td>\n",
       "      <td>EFConsPerCap</td>\n",
       "      <td>6.280528e-01</td>\n",
       "      <td>1.810332e-01</td>\n",
       "      <td>0.162800822</td>\n",
       "      <td>1.472910e-02</td>\n",
       "      <td>2.924496e-02</td>\n",
       "      <td>1.391455e+00</td>\n",
       "      <td>2.407316e+00</td>\n",
       "      <td>2A</td>\n",
       "    </tr>\n",
       "    <tr>\n",
       "      <th>...</th>\n",
       "      <td>...</td>\n",
       "      <td>...</td>\n",
       "      <td>...</td>\n",
       "      <td>...</td>\n",
       "      <td>...</td>\n",
       "      <td>...</td>\n",
       "      <td>...</td>\n",
       "      <td>...</td>\n",
       "      <td>...</td>\n",
       "      <td>...</td>\n",
       "      <td>...</td>\n",
       "      <td>...</td>\n",
       "    </tr>\n",
       "    <tr>\n",
       "      <th>65469</th>\n",
       "      <td>Ukraine</td>\n",
       "      <td>2016</td>\n",
       "      <td>230</td>\n",
       "      <td>BiocapTotGHA</td>\n",
       "      <td>8.966961e+07</td>\n",
       "      <td>6.457412e+06</td>\n",
       "      <td>19268322.04</td>\n",
       "      <td>6.920056e+06</td>\n",
       "      <td>3.952345e+06</td>\n",
       "      <td>0.000000e+00</td>\n",
       "      <td>1.262677e+08</td>\n",
       "      <td>2A</td>\n",
       "    </tr>\n",
       "    <tr>\n",
       "      <th>65470</th>\n",
       "      <td>Ukraine</td>\n",
       "      <td>2016</td>\n",
       "      <td>230</td>\n",
       "      <td>EFConsPerCap</td>\n",
       "      <td>1.155004e+00</td>\n",
       "      <td>1.081601e-02</td>\n",
       "      <td>0.149119494</td>\n",
       "      <td>5.150234e-02</td>\n",
       "      <td>8.893945e-02</td>\n",
       "      <td>1.453137e+00</td>\n",
       "      <td>2.908519e+00</td>\n",
       "      <td>2A</td>\n",
       "    </tr>\n",
       "    <tr>\n",
       "      <th>65471</th>\n",
       "      <td>Ukraine</td>\n",
       "      <td>2016</td>\n",
       "      <td>230</td>\n",
       "      <td>EFConsTotGHA</td>\n",
       "      <td>5.132678e+07</td>\n",
       "      <td>4.806484e+05</td>\n",
       "      <td>6626661.768</td>\n",
       "      <td>2.288692e+06</td>\n",
       "      <td>3.952345e+06</td>\n",
       "      <td>6.457538e+07</td>\n",
       "      <td>1.292505e+08</td>\n",
       "      <td>2A</td>\n",
       "    </tr>\n",
       "    <tr>\n",
       "      <th>65472</th>\n",
       "      <td>Ukraine</td>\n",
       "      <td>2016</td>\n",
       "      <td>230</td>\n",
       "      <td>EFProdPerCap</td>\n",
       "      <td>2.017831e+00</td>\n",
       "      <td>5.768143e-03</td>\n",
       "      <td>0.216720935</td>\n",
       "      <td>3.223480e-03</td>\n",
       "      <td>8.893945e-02</td>\n",
       "      <td>1.665767e+00</td>\n",
       "      <td>3.998251e+00</td>\n",
       "      <td>2A</td>\n",
       "    </tr>\n",
       "    <tr>\n",
       "      <th>65473</th>\n",
       "      <td>Ukraine</td>\n",
       "      <td>2016</td>\n",
       "      <td>230</td>\n",
       "      <td>EFProdTotGHA</td>\n",
       "      <td>8.966961e+07</td>\n",
       "      <td>2.563282e+05</td>\n",
       "      <td>9630775.281</td>\n",
       "      <td>1.432470e+05</td>\n",
       "      <td>3.952345e+06</td>\n",
       "      <td>7.402438e+07</td>\n",
       "      <td>1.776767e+08</td>\n",
       "      <td>2A</td>\n",
       "    </tr>\n",
       "  </tbody>\n",
       "</table>\n",
       "<p>240 rows × 12 columns</p>\n",
       "</div>"
      ],
      "text/plain": [
       "       country  year  country_code        record     crop_land  grazing_land  \\\n",
       "1536   Algeria  2016             4    AreaPerCap  2.072989e-01  8.112722e-01   \n",
       "1537   Algeria  2016             4     AreaTotHA  8.417600e+06  3.294260e+07   \n",
       "1538   Algeria  2016             4  BiocapPerCap  2.021916e-01  2.636077e-01   \n",
       "1539   Algeria  2016             4  BiocapTotGHA  8.210214e+06  1.070408e+07   \n",
       "1540   Algeria  2016             4  EFConsPerCap  6.280528e-01  1.810332e-01   \n",
       "...        ...   ...           ...           ...           ...           ...   \n",
       "65469  Ukraine  2016           230  BiocapTotGHA  8.966961e+07  6.457412e+06   \n",
       "65470  Ukraine  2016           230  EFConsPerCap  1.155004e+00  1.081601e-02   \n",
       "65471  Ukraine  2016           230  EFConsTotGHA  5.132678e+07  4.806484e+05   \n",
       "65472  Ukraine  2016           230  EFProdPerCap  2.017831e+00  5.768143e-03   \n",
       "65473  Ukraine  2016           230  EFProdTotGHA  8.966961e+07  2.563282e+05   \n",
       "\n",
       "       forest_land  fishing_ground  built_up_land        carbon         total  \\\n",
       "1536   0.048357265    2.258528e-02   2.998367e-02  0.000000e+00  1.119497e+00   \n",
       "1537       1963600    9.171000e+05   1.217520e+06  0.000000e+00  4.545842e+07   \n",
       "1538   0.027166736    7.947991e-03   2.924496e-02  0.000000e+00  5.301590e-01   \n",
       "1539   1103135.245    3.227369e+05   1.187524e+06  0.000000e+00  2.152769e+07   \n",
       "1540   0.162800822    1.472910e-02   2.924496e-02  1.391455e+00  2.407316e+00   \n",
       "...            ...             ...            ...           ...           ...   \n",
       "65469  19268322.04    6.920056e+06   3.952345e+06  0.000000e+00  1.262677e+08   \n",
       "65470  0.149119494    5.150234e-02   8.893945e-02  1.453137e+00  2.908519e+00   \n",
       "65471  6626661.768    2.288692e+06   3.952345e+06  6.457538e+07  1.292505e+08   \n",
       "65472  0.216720935    3.223480e-03   8.893945e-02  1.665767e+00  3.998251e+00   \n",
       "65473  9630775.281    1.432470e+05   3.952345e+06  7.402438e+07  1.776767e+08   \n",
       "\n",
       "      QScore  \n",
       "1536      2A  \n",
       "1537      2A  \n",
       "1538      2A  \n",
       "1539      2A  \n",
       "1540      2A  \n",
       "...      ...  \n",
       "65469     2A  \n",
       "65470     2A  \n",
       "65471     2A  \n",
       "65472     2A  \n",
       "65473     2A  \n",
       "\n",
       "[240 rows x 12 columns]"
      ]
     },
     "execution_count": 10,
     "metadata": {},
     "output_type": "execute_result"
    }
   ],
   "source": [
    "df_2A"
   ]
  },
  {
   "cell_type": "code",
   "execution_count": 11,
   "id": "b7e16076",
   "metadata": {},
   "outputs": [
    {
     "data": {
      "text/plain": [
       "3A    350\n",
       "2A    240\n",
       "Name: QScore, dtype: int64"
      ]
     },
     "execution_count": 11,
     "metadata": {},
     "output_type": "execute_result"
    }
   ],
   "source": [
    "import sklearn.utils \n",
    "data_df = sklearn.utils.shuffle(data_df) \n",
    "data_df = data_df.reset_index(drop= True ) \n",
    "data_df.shape \n",
    "data_df.QScore.value_counts() \n"
   ]
  },
  {
   "cell_type": "code",
   "execution_count": 12,
   "id": "e2f40459",
   "metadata": {},
   "outputs": [],
   "source": [
    "#more preprocessing \n",
    "data_df = data_df.drop(columns=[ 'country_code' , 'country' , 'year' ]) \n",
    "X = data_df.drop(columns= 'QScore' ) \n",
    "y = data_df[ 'QScore' ] "
   ]
  },
  {
   "cell_type": "code",
   "execution_count": 13,
   "id": "004b169b",
   "metadata": {},
   "outputs": [
    {
     "data": {
      "text/plain": [
       "3A    246\n",
       "2A    167\n",
       "Name: QScore, dtype: int64"
      ]
     },
     "execution_count": 13,
     "metadata": {},
     "output_type": "execute_result"
    }
   ],
   "source": [
    "#split the data into training and testing sets \n",
    "from sklearn.model_selection import train_test_split \n",
    "x_train, x_test, y_train, y_test = train_test_split(X, y, test_size= 0.3 , random_state= 0 ) \n",
    "y_train.value_counts() "
   ]
  },
  {
   "cell_type": "code",
   "execution_count": 14,
   "id": "e6bf23d2",
   "metadata": {},
   "outputs": [],
   "source": [
    "#There is still an imbalance in the class distribution. For this, we use SMOTE only on the training data to handle this. \n",
    "#encode categorical variable \n",
    "from sklearn.preprocessing import LabelEncoder \n",
    "encoder = LabelEncoder() \n",
    "x_train.record = encoder.fit_transform(x_train.record) \n",
    "x_test.record = encoder.transform(x_test.record) "
   ]
  },
  {
   "cell_type": "code",
   "execution_count": 15,
   "id": "5efede95",
   "metadata": {},
   "outputs": [
    {
     "name": "stdout",
     "output_type": "stream",
     "text": [
      "Collecting imblearnNote: you may need to restart the kernel to use updated packages.\n"
     ]
    },
    {
     "name": "stderr",
     "output_type": "stream",
     "text": [
      "ERROR: Could not find a version that satisfies the requirement scikit-learn>=1.1.0 (from imbalanced-learn->imblearn) (from versions: 0.9, 0.10, 0.11, 0.12, 0.12.1, 0.13, 0.13.1, 0.14, 0.14.1, 0.15.0b1, 0.15.0b2, 0.15.0, 0.15.1, 0.15.2, 0.16b1, 0.16.0, 0.16.1, 0.17b1, 0.17, 0.17.1, 0.18, 0.18.1, 0.18.2, 0.19b2, 0.19.0, 0.19.1, 0.19.2, 0.20rc1, 0.20.0, 0.20.1, 0.20.2, 0.20.3, 0.20.4, 0.21rc2, 0.21.0, 0.21.1, 0.21.2, 0.21.3, 0.22rc2.post1, 0.22rc3, 0.22, 0.22.1, 0.22.2, 0.22.2.post1, 0.23.0rc1, 0.23.0, 0.23.1, 0.23.2, 0.24.dev0, 0.24.0rc1, 0.24.0, 0.24.1, 0.24.2, 1.0rc1, 1.0rc2, 1.0, 1.0.1, 1.0.2)\n",
      "ERROR: No matching distribution found for scikit-learn>=1.1.0 (from imbalanced-learn->imblearn)\n"
     ]
    },
    {
     "name": "stdout",
     "output_type": "stream",
     "text": [
      "\n",
      "  Downloading imblearn-0.0-py2.py3-none-any.whl (1.9 kB)\n",
      "Collecting imbalanced-learn\n",
      "  Downloading imbalanced_learn-0.9.1-py3-none-any.whl (199 kB)\n",
      "Requirement already satisfied: joblib>=1.0.0 in c:\\users\\ayool\\anaconda3\\envs\\data\\lib\\site-packages (from imbalanced-learn->imblearn) (1.1.0)\n",
      "Collecting scipy>=1.3.2\n",
      "  Using cached scipy-1.7.3-cp37-cp37m-win_amd64.whl (34.1 MB)\n"
     ]
    }
   ],
   "source": [
    "pip install imblearn"
   ]
  },
  {
   "cell_type": "code",
   "execution_count": 16,
   "id": "f1d23cf9",
   "metadata": {},
   "outputs": [
    {
     "ename": "ModuleNotFoundError",
     "evalue": "No module named 'imblearn'",
     "output_type": "error",
     "traceback": [
      "\u001b[1;31m---------------------------------------------------------------------------\u001b[0m",
      "\u001b[1;31mModuleNotFoundError\u001b[0m                       Traceback (most recent call last)",
      "\u001b[1;32m~\\AppData\\Local\\Temp/ipykernel_15424/1112662209.py\u001b[0m in \u001b[0;36m<module>\u001b[1;34m\u001b[0m\n\u001b[1;32m----> 1\u001b[1;33m \u001b[1;32mimport\u001b[0m \u001b[0mimblearn\u001b[0m\u001b[1;33m\u001b[0m\u001b[1;33m\u001b[0m\u001b[0m\n\u001b[0m\u001b[0;32m      2\u001b[0m \u001b[1;32mfrom\u001b[0m \u001b[0mimblearn\u001b[0m\u001b[1;33m.\u001b[0m\u001b[0mover_sampling\u001b[0m \u001b[1;32mimport\u001b[0m \u001b[0mSMOTE\u001b[0m\u001b[1;33m\u001b[0m\u001b[1;33m\u001b[0m\u001b[0m\n\u001b[0;32m      3\u001b[0m \u001b[0msmote\u001b[0m \u001b[1;33m=\u001b[0m \u001b[0mSMOTE\u001b[0m\u001b[1;33m(\u001b[0m\u001b[0mrandom_state\u001b[0m\u001b[1;33m=\u001b[0m \u001b[1;36m1\u001b[0m \u001b[1;33m)\u001b[0m\u001b[1;33m\u001b[0m\u001b[1;33m\u001b[0m\u001b[0m\n\u001b[0;32m      4\u001b[0m \u001b[0mx_train_balanced\u001b[0m\u001b[1;33m,\u001b[0m \u001b[0my_balanced\u001b[0m \u001b[1;33m=\u001b[0m \u001b[0msmote\u001b[0m\u001b[1;33m.\u001b[0m\u001b[0mfit_sample\u001b[0m\u001b[1;33m(\u001b[0m\u001b[0mx_train\u001b[0m\u001b[1;33m,\u001b[0m \u001b[0my_train\u001b[0m\u001b[1;33m)\u001b[0m\u001b[1;33m\u001b[0m\u001b[1;33m\u001b[0m\u001b[0m\n",
      "\u001b[1;31mModuleNotFoundError\u001b[0m: No module named 'imblearn'"
     ]
    }
   ],
   "source": [
    "import imblearn \n",
    "from imblearn.over_sampling import SMOTE \n",
    "smote = SMOTE(random_state= 1 ) \n",
    "x_train_balanced, y_balanced = smote.fit_sample(x_train, y_train) "
   ]
  },
  {
   "cell_type": "code",
   "execution_count": null,
   "id": "c2a01798",
   "metadata": {},
   "outputs": [],
   "source": [
    "from sklearn.preprocessing import MinMaxScaler \n",
    "scaler = MinMaxScaler() \n",
    "normalised_train_df = scaler.fit_transform(x_train_balanced.drop(columns=[ 'record' ])) \n",
    "normalised_train_df = pd.DataFrame(normalised_train_df, \n",
    "columns=x_train_balanced.drop(columns=[ 'record' ]).columns) \n",
    "normalised_train_df[ 'record' ] = x_train_balanced[ 'record' ] \n",
    "x_test = x_test.reset_index(drop= True ) \n",
    "normalised_test_df = scaler.transform(x_test.drop(columns=[ 'record' ])) \n",
    "normalised_test_df = pd.DataFrame(normalised_test_df, \n",
    "columns=x_test.drop(columns=[ 'record' ]).columns) \n",
    "normalised_test_df[ 'record' ] = x_test[ 'record' ] "
   ]
  },
  {
   "cell_type": "code",
   "execution_count": null,
   "id": "1d97ff97",
   "metadata": {},
   "outputs": [],
   "source": [
    "#Logistic Regression \n",
    "from sklearn.linear_model import LogisticRegression \n",
    "log_reg = LogisticRegression() \n",
    "log_reg.fit(normalised_train_df, y_balanced) \n",
    "#returns \n",
    "LogisticRegression(C= 1.0 , class_weight= None , dual= False , fit_intercept= True , \n",
    " intercept_scaling= 1 , l1_ratio= None , max_iter= 100 , \n",
    " multi_class= 'auto' , n_jobs= None , penalty= 'l2' , \n",
    " random_state= None , solver= 'lbfgs' , tol= 0.0001 , verbose= 0 , \n",
    " warm_start= False )"
   ]
  },
  {
   "cell_type": "code",
   "execution_count": null,
   "id": "df10116b",
   "metadata": {},
   "outputs": [],
   "source": []
  },
  {
   "cell_type": "code",
   "execution_count": null,
   "id": "4446b0d6",
   "metadata": {},
   "outputs": [],
   "source": []
  },
  {
   "cell_type": "code",
   "execution_count": null,
   "id": "d109d8ad",
   "metadata": {},
   "outputs": [],
   "source": []
  },
  {
   "cell_type": "code",
   "execution_count": null,
   "id": "95ba9143",
   "metadata": {},
   "outputs": [],
   "source": []
  },
  {
   "cell_type": "code",
   "execution_count": null,
   "id": "246750ef",
   "metadata": {},
   "outputs": [],
   "source": []
  }
 ],
 "metadata": {
  "kernelspec": {
   "display_name": "Python 3 (ipykernel)",
   "language": "python",
   "name": "python3"
  },
  "language_info": {
   "codemirror_mode": {
    "name": "ipython",
    "version": 3
   },
   "file_extension": ".py",
   "mimetype": "text/x-python",
   "name": "python",
   "nbconvert_exporter": "python",
   "pygments_lexer": "ipython3",
   "version": "3.7.1"
  }
 },
 "nbformat": 4,
 "nbformat_minor": 5
}
